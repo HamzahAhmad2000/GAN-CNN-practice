{
  "nbformat": 4,
  "nbformat_minor": 0,
  "metadata": {
    "colab": {
      "provenance": [],
      "gpuType": "T4"
    },
    "kernelspec": {
      "name": "python3",
      "display_name": "Python 3"
    },
    "language_info": {
      "name": "python"
    },
    "accelerator": "GPU"
  },
  "cells": [
    {
      "cell_type": "code",
      "execution_count": null,
      "metadata": {
        "id": "ph4SQ1gWOw1q"
      },
      "outputs": [],
      "source": [
        "from torch.nn import Conv2d\n",
        "from torch.nn import ConvTranspose2d\n",
        "import torch"
      ]
    },
    {
      "cell_type": "code",
      "source": [
        "image=torch.randn(100,1,1)\n",
        "image"
      ],
      "metadata": {
        "colab": {
          "base_uri": "https://localhost:8080/"
        },
        "id": "7A5RRC1PRGP1",
        "outputId": "e3b79a4e-c09b-47a5-da69-4ebdb5a96051"
      },
      "execution_count": null,
      "outputs": [
        {
          "output_type": "execute_result",
          "data": {
            "text/plain": [
              "tensor([[[-1.6606]],\n",
              "\n",
              "        [[-0.3035]],\n",
              "\n",
              "        [[ 0.6589]],\n",
              "\n",
              "        [[-0.7941]],\n",
              "\n",
              "        [[ 0.7369]],\n",
              "\n",
              "        [[-0.4609]],\n",
              "\n",
              "        [[-0.6531]],\n",
              "\n",
              "        [[-0.1996]],\n",
              "\n",
              "        [[-1.2778]],\n",
              "\n",
              "        [[-0.5322]],\n",
              "\n",
              "        [[ 0.1798]],\n",
              "\n",
              "        [[ 0.7084]],\n",
              "\n",
              "        [[-0.4486]],\n",
              "\n",
              "        [[ 0.1882]],\n",
              "\n",
              "        [[-0.3206]],\n",
              "\n",
              "        [[-1.0526]],\n",
              "\n",
              "        [[-1.7996]],\n",
              "\n",
              "        [[ 0.1950]],\n",
              "\n",
              "        [[ 0.5737]],\n",
              "\n",
              "        [[-0.7815]],\n",
              "\n",
              "        [[-1.2820]],\n",
              "\n",
              "        [[-0.4237]],\n",
              "\n",
              "        [[-0.1537]],\n",
              "\n",
              "        [[-0.5936]],\n",
              "\n",
              "        [[-0.3742]],\n",
              "\n",
              "        [[ 1.4569]],\n",
              "\n",
              "        [[ 0.7090]],\n",
              "\n",
              "        [[ 0.2351]],\n",
              "\n",
              "        [[-1.6510]],\n",
              "\n",
              "        [[ 0.2489]],\n",
              "\n",
              "        [[ 0.3318]],\n",
              "\n",
              "        [[-0.9028]],\n",
              "\n",
              "        [[ 0.4888]],\n",
              "\n",
              "        [[-0.0405]],\n",
              "\n",
              "        [[ 0.8666]],\n",
              "\n",
              "        [[-0.4205]],\n",
              "\n",
              "        [[ 0.0823]],\n",
              "\n",
              "        [[ 0.4720]],\n",
              "\n",
              "        [[ 1.5758]],\n",
              "\n",
              "        [[ 1.3133]],\n",
              "\n",
              "        [[-0.6469]],\n",
              "\n",
              "        [[-0.6969]],\n",
              "\n",
              "        [[ 0.3438]],\n",
              "\n",
              "        [[-0.1333]],\n",
              "\n",
              "        [[ 0.1576]],\n",
              "\n",
              "        [[-0.0117]],\n",
              "\n",
              "        [[ 0.5762]],\n",
              "\n",
              "        [[-0.6801]],\n",
              "\n",
              "        [[-0.1830]],\n",
              "\n",
              "        [[-0.3052]],\n",
              "\n",
              "        [[-0.3883]],\n",
              "\n",
              "        [[ 1.9709]],\n",
              "\n",
              "        [[ 0.6853]],\n",
              "\n",
              "        [[-0.9466]],\n",
              "\n",
              "        [[ 0.2280]],\n",
              "\n",
              "        [[-0.8550]],\n",
              "\n",
              "        [[-0.6727]],\n",
              "\n",
              "        [[-0.5284]],\n",
              "\n",
              "        [[ 0.6320]],\n",
              "\n",
              "        [[ 0.9380]],\n",
              "\n",
              "        [[-0.1828]],\n",
              "\n",
              "        [[-0.3788]],\n",
              "\n",
              "        [[ 0.2808]],\n",
              "\n",
              "        [[-0.0670]],\n",
              "\n",
              "        [[-0.1326]],\n",
              "\n",
              "        [[ 0.2270]],\n",
              "\n",
              "        [[-0.7530]],\n",
              "\n",
              "        [[ 1.1336]],\n",
              "\n",
              "        [[-1.3097]],\n",
              "\n",
              "        [[-0.9238]],\n",
              "\n",
              "        [[-0.2704]],\n",
              "\n",
              "        [[ 1.8272]],\n",
              "\n",
              "        [[ 0.7574]],\n",
              "\n",
              "        [[-1.9617]],\n",
              "\n",
              "        [[-0.5076]],\n",
              "\n",
              "        [[ 0.4345]],\n",
              "\n",
              "        [[ 0.4896]],\n",
              "\n",
              "        [[-0.2407]],\n",
              "\n",
              "        [[-0.8220]],\n",
              "\n",
              "        [[-1.0019]],\n",
              "\n",
              "        [[ 0.2932]],\n",
              "\n",
              "        [[-0.7077]],\n",
              "\n",
              "        [[-0.6381]],\n",
              "\n",
              "        [[-0.5625]],\n",
              "\n",
              "        [[ 0.1621]],\n",
              "\n",
              "        [[-1.2253]],\n",
              "\n",
              "        [[-0.4998]],\n",
              "\n",
              "        [[-0.8156]],\n",
              "\n",
              "        [[-1.2054]],\n",
              "\n",
              "        [[-0.2721]],\n",
              "\n",
              "        [[-1.1346]],\n",
              "\n",
              "        [[-0.5360]],\n",
              "\n",
              "        [[-1.6732]],\n",
              "\n",
              "        [[ 1.1362]],\n",
              "\n",
              "        [[ 1.2178]],\n",
              "\n",
              "        [[ 0.3038]],\n",
              "\n",
              "        [[ 0.0389]],\n",
              "\n",
              "        [[ 1.1191]],\n",
              "\n",
              "        [[-0.3841]],\n",
              "\n",
              "        [[ 0.6736]]])"
            ]
          },
          "metadata": {},
          "execution_count": 72
        }
      ]
    },
    {
      "cell_type": "code",
      "source": [
        "kernel_size=(4,4)\n",
        "in_channels=100\n",
        "out_channels=1024\n",
        "layer1=ConvTranspose2d(in_channels, out_channels, kernel_size, padding=0, stride =2)\n"
      ],
      "metadata": {
        "id": "jGStMqycPHFZ"
      },
      "execution_count": null,
      "outputs": []
    },
    {
      "cell_type": "code",
      "source": [
        "kernel_size=(4,4)\n",
        "in_channels=1024\n",
        "out_channels=512\n",
        "layer2=ConvTranspose2d(in_channels, out_channels, kernel_size, padding=1, stride =2)\n"
      ],
      "metadata": {
        "id": "mbAVwOxoTTjh"
      },
      "execution_count": null,
      "outputs": []
    },
    {
      "cell_type": "code",
      "source": [
        "kernel_size=(4,4)\n",
        "in_channels=512\n",
        "out_channels=256\n",
        "layer3=ConvTranspose2d(in_channels, out_channels, kernel_size, padding=1, stride =2)\n"
      ],
      "metadata": {
        "id": "9n_12AZTTZEA"
      },
      "execution_count": null,
      "outputs": []
    },
    {
      "cell_type": "code",
      "source": [
        "kernel_size=(4,4)\n",
        "in_channels=256\n",
        "out_channels=128\n",
        "layer4=ConvTranspose2d(in_channels, out_channels, kernel_size, padding=1, stride =2)\n"
      ],
      "metadata": {
        "id": "wmfCRCiKTfNg"
      },
      "execution_count": null,
      "outputs": []
    },
    {
      "cell_type": "code",
      "source": [
        "img=layer1(image)"
      ],
      "metadata": {
        "id": "6SsO95c1R19V"
      },
      "execution_count": null,
      "outputs": []
    },
    {
      "cell_type": "code",
      "source": [
        "img2=layer2(img)"
      ],
      "metadata": {
        "id": "ryzaI9XDT4FI"
      },
      "execution_count": null,
      "outputs": []
    },
    {
      "cell_type": "code",
      "source": [
        "img3=layer3(img2)"
      ],
      "metadata": {
        "id": "zbmCiI7uT4go"
      },
      "execution_count": null,
      "outputs": []
    },
    {
      "cell_type": "code",
      "source": [
        "img4=layer4(img3)"
      ],
      "metadata": {
        "id": "GqTaA8jpT5Nf"
      },
      "execution_count": null,
      "outputs": []
    },
    {
      "cell_type": "code",
      "source": [
        "img.shape"
      ],
      "metadata": {
        "colab": {
          "base_uri": "https://localhost:8080/"
        },
        "id": "coZgylVbR5gT",
        "outputId": "0f25aba6-4f65-4d24-a3ef-e2bd3a4b4cff"
      },
      "execution_count": null,
      "outputs": [
        {
          "output_type": "execute_result",
          "data": {
            "text/plain": [
              "torch.Size([1024, 4, 4])"
            ]
          },
          "metadata": {},
          "execution_count": 70
        }
      ]
    },
    {
      "cell_type": "code",
      "source": [
        "\n",
        "img2.shape\n"
      ],
      "metadata": {
        "colab": {
          "base_uri": "https://localhost:8080/"
        },
        "id": "LPxC2xPUSWsC",
        "outputId": "380e43be-053f-405d-affe-bfd7e9281d9e"
      },
      "execution_count": null,
      "outputs": [
        {
          "output_type": "execute_result",
          "data": {
            "text/plain": [
              "torch.Size([512, 8, 8])"
            ]
          },
          "metadata": {},
          "execution_count": 76
        }
      ]
    },
    {
      "cell_type": "code",
      "source": [
        "img3.shape"
      ],
      "metadata": {
        "colab": {
          "base_uri": "https://localhost:8080/"
        },
        "id": "gm2xF8wWUU6w",
        "outputId": "a3e09117-8513-43f3-a8af-b592656164e7"
      },
      "execution_count": null,
      "outputs": [
        {
          "output_type": "execute_result",
          "data": {
            "text/plain": [
              "torch.Size([256, 16, 16])"
            ]
          },
          "metadata": {},
          "execution_count": 80
        }
      ]
    },
    {
      "cell_type": "code",
      "source": [
        "img4.shape"
      ],
      "metadata": {
        "colab": {
          "base_uri": "https://localhost:8080/"
        },
        "id": "grg9pu_mVL3e",
        "outputId": "7bfe2107-2100-44a8-c480-182785a9bf32"
      },
      "execution_count": null,
      "outputs": [
        {
          "output_type": "execute_result",
          "data": {
            "text/plain": [
              "torch.Size([128, 32, 32])"
            ]
          },
          "metadata": {},
          "execution_count": 82
        }
      ]
    },
    {
      "cell_type": "code",
      "source": [
        "class ConvNetwork():\n",
        "  def __init__(self):\n",
        "    self.layer1=Conv2d(in_channels=3, out_channels=128, kernel_size=(4,4), padding=5, stride =2)\n",
        "    self.layer2=Conv2d(in_channels=128, out_channels=256, kernel_size=(4,4), padding=5, stride =2)\n",
        "    self.layer3=Conv2d(in_channels=256, out_channels=512, kernel_size=(4,4), padding=5, stride =2)\n",
        "    self.layer4=Conv2d(in_channels=512, out_channels=1024, kernel_size=(4,4), padding=5, stride =2)\n",
        "    self.layer5=Conv2d(in_channels=1024, out_channels=1, kernel_size=(4,4), padding=5, stride =2)\n",
        "  def discriminator(self,image):\n",
        "    img=self.layer1(image)\n",
        "    print(\"After first Layer size of image:\",img.shape)\n",
        "    img2=self.layer2(img)\n",
        "    print(\"After second Layer size of image:\",img2.shape)\n",
        "    img3=self.layer3(img2)\n",
        "    print(\"After third Layer size of image:\",img3.shape)\n",
        "    img4=self.layer4(img3)\n",
        "    print(\"After fourth Layer size of image:\",img4.shape)\n",
        "    img5=self.layer5(img4)\n",
        "    print(\"After fourth Layer size of image:\",img5.shape)\n"
      ],
      "metadata": {
        "id": "0t8ie5pAVOUN"
      },
      "execution_count": null,
      "outputs": []
    },
    {
      "cell_type": "code",
      "source": [
        "class RevConvNetwork():\n",
        "  def __init__(self):\n",
        "    self.layer1=ConvTranspose2d(in_channels=100, out_channels=1024, kernel_size=(4,4), padding=0, stride =2)\n",
        "    self.layer2=ConvTranspose2d(in_channels=1024, out_channels=512, kernel_size=(4,4), padding=1, stride =2)\n",
        "    self.layer3=ConvTranspose2d(in_channels=512, out_channels=256, kernel_size=(4,4), padding=1, stride =2)\n",
        "    self.layer4=ConvTranspose2d(in_channels=256, out_channels=128, kernel_size=(4,4), padding=1, stride =2)\n",
        "    self.layer5=ConvTranspose2d(in_channels=128, out_channels=3, kernel_size=(4,4), padding=1, stride =2)\n",
        "  def generator(self,image):\n",
        "    img=self.layer1(image)\n",
        "    print(\"After first Layer size of image:\",img.shape)\n",
        "    img2=self.layer2(img)\n",
        "    print(\"After second Layer size of image:\",img2.shape)\n",
        "    img3=self.layer3(img2)\n",
        "    print(\"After third Layer size of image:\",img3.shape)\n",
        "    img4=self.layer4(img3)\n",
        "    print(\"After fourth Layer size of image:\",img4.shape)\n",
        "    img5=self.layer5(img4)\n",
        "    print(\"After fourth Layer size of image:\",img5.shape)"
      ],
      "metadata": {
        "id": "I6Zu9wA0Yu72"
      },
      "execution_count": null,
      "outputs": []
    },
    {
      "cell_type": "code",
      "source": [
        "image=torch.randn(3,64,64)\n",
        "con=ConvNetwork()\n",
        "con.discriminator(image)"
      ],
      "metadata": {
        "colab": {
          "base_uri": "https://localhost:8080/"
        },
        "id": "pMqzIP2cYbH5",
        "outputId": "7df97315-f668-4fe6-88f8-d6b6a743afe8"
      },
      "execution_count": null,
      "outputs": [
        {
          "output_type": "stream",
          "name": "stdout",
          "text": [
            "After first Layer size of image: torch.Size([128, 32, 32])\n",
            "After second Layer size of image: torch.Size([256, 16, 16])\n",
            "After third Layer size of image: torch.Size([512, 8, 8])\n",
            "After fourth Layer size of image: torch.Size([1024, 4, 4])\n",
            "After fourth Layer size of image: torch.Size([1, 1, 1])\n"
          ]
        }
      ]
    },
    {
      "cell_type": "code",
      "source": [
        "image=torch.randn(3,64,64)\n",
        "con=ConvNetwork()\n",
        "con.discriminator(image)"
      ],
      "metadata": {
        "id": "T8-nMLJqcuqL",
        "outputId": "a343af43-3c31-4654-ee78-28e458e1bbf3",
        "colab": {
          "base_uri": "https://localhost:8080/"
        }
      },
      "execution_count": null,
      "outputs": [
        {
          "output_type": "stream",
          "name": "stdout",
          "text": [
            "After first Layer size of image: torch.Size([128, 36, 36])\n",
            "After second Layer size of image: torch.Size([256, 22, 22])\n",
            "After third Layer size of image: torch.Size([512, 15, 15])\n",
            "After fourth Layer size of image: torch.Size([1024, 11, 11])\n",
            "After fourth Layer size of image: torch.Size([1, 9, 9])\n"
          ]
        }
      ]
    },
    {
      "cell_type": "code",
      "source": [
        "image2=torch.randn(100,1,1)\n",
        "revcon=RevConvNetwork()\n",
        "revcon.generator(image2)"
      ],
      "metadata": {
        "colab": {
          "base_uri": "https://localhost:8080/"
        },
        "id": "i6GyS88CYdWZ",
        "outputId": "e1948949-9b13-4845-c33e-50c538ed9d61"
      },
      "execution_count": null,
      "outputs": [
        {
          "output_type": "stream",
          "name": "stdout",
          "text": [
            "After first Layer size of image: torch.Size([1024, 4, 4])\n",
            "After second Layer size of image: torch.Size([512, 8, 8])\n",
            "After third Layer size of image: torch.Size([256, 16, 16])\n",
            "After fourth Layer size of image: torch.Size([128, 32, 32])\n",
            "After fourth Layer size of image: torch.Size([3, 64, 64])\n"
          ]
        }
      ]
    },
    {
      "cell_type": "code",
      "source": [],
      "metadata": {
        "id": "BDEpSz78bH5i"
      },
      "execution_count": null,
      "outputs": []
    }
  ]
}